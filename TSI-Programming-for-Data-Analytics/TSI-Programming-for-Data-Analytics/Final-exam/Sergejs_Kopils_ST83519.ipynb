{
 "cells": [
  {
   "cell_type": "code",
   "execution_count": 1,
   "id": "37c9a255",
   "metadata": {},
   "outputs": [
    {
     "name": "stdout",
     "output_type": "stream",
     "text": [
      "Session ID: 1\n",
      "Start Datetime: 2024-01-16 08:00:00\n",
      "Visited Pages: index, productlist, product_1, checkout\n",
      "Session Flags: loggedin, ordercompleted\n",
      "User Coordinates: Latitude 10.00002, Longitude 10.00001\n",
      "\n",
      "Session ID: 3\n",
      "Start Datetime: 2024-01-16 09:00:00\n",
      "Visited Pages: index, productlist, product_1, cart\n",
      "Session Flags: \n",
      "User Coordinates: Latitude 20.00004, Longitude 10.00004\n",
      "\n",
      "Session ID: 2\n",
      "Start Datetime: 2024-01-16 08:30:00\n",
      "Visited Pages: index, productlist, product_2\n",
      "Session Flags: loggedin\n",
      "User Coordinates: Latitude 20.00003, Longitude 10.00003\n",
      "\n"
     ]
    }
   ],
   "source": [
    "import pandas as pd\n",
    "\n",
    "sessions = []\n",
    "\n",
    "session1 = {\n",
    "    \"sessionID\": 1,\n",
    "    \"session_start_datetime\": \"2024-01-16 08:00:00\",\n",
    "    \"visited_pages\": [\"index\", \"productlist\", \"product_1\", \"checkout\"],\n",
    "    \"session_flags\": [\"loggedin\", \"ordercompleted\"],\n",
    "    \"user_coordinates\": {\"longitude\": 10.00001, \"latitude\": 10.00002 }\n",
    "}\n",
    "\n",
    "session2 = {\n",
    "    \"sessionID\": 2,\n",
    "    \"session_start_datetime\": \"2024-01-16 08:30:00\",\n",
    "    \"visited_pages\": [\"index\", \"productlist\", \"product_2\"],\n",
    "    \"session_flags\": [\"loggedin\"],\n",
    "    \"user_coordinates\": {\"longitude\": 10.00003, \"latitude\": 20.00003 }\n",
    "}\n",
    "\n",
    "session3 = {\n",
    "    \"sessionID\": 3,\n",
    "    \"session_start_datetime\": \"2024-01-16 09:00:00\",\n",
    "    \"visited_pages\": [\"index\", \"productlist\", \"product_1\", \"cart\"],\n",
    "    \"session_flags\": [],\n",
    "    \"user_coordinates\": {\"longitude\": 10.00004, \"latitude\": 20.00004 }\n",
    "}\n",
    "\n",
    "for session in [session1, session2, session3]:\n",
    "    session[\"session_start_datetime\"] = pd.to_datetime(session[\"session_start_datetime\"])\n",
    "    \n",
    "sessions.extend([session1, session2, session3])\n",
    "\n",
    "sorted_sessions = sorted(sessions, key=lambda x: len(x[\"visited_pages\"]), reverse=True)\n",
    "\n",
    "for session in sorted_sessions:\n",
    "    print(f\"Session ID: {session['sessionID']}\")\n",
    "    print(f\"Start Datetime: {session['session_start_datetime']}\")\n",
    "    print(f\"Visited Pages: {', '.join(session['visited_pages'])}\")\n",
    "    print(f\"Session Flags: {', '.join(session['session_flags'])}\")\n",
    "    print(f\"User Coordinates: Latitude {session['user_coordinates']['latitude']}, Longitude {session['user_coordinates']['longitude']}\")\n",
    "    print()\n"
   ]
  },
  {
   "cell_type": "code",
   "execution_count": 7,
   "id": "63c4d075",
   "metadata": {},
   "outputs": [
    {
     "data": {
      "text/plain": [
       "{'live': 0.125, 'is': 0.125, 'life': 0.125, 'na': 0.625}"
      ]
     },
     "execution_count": 7,
     "metadata": {},
     "output_type": "execute_result"
    }
   ],
   "source": [
    "import re\n",
    "\n",
    "def tf(text: str) -> dict:\n",
    "    words = re.findall(r'\\w+', text.lower())\n",
    "    \n",
    "    total_words = len(words)\n",
    "    word_count = {}\n",
    "    \n",
    "    for word in words:\n",
    "        word_count[word] = word_count.get(word, 0) + 1\n",
    "\n",
    "    word_frequencies = {word: count / total_words for word, count in word_count.items()}\n",
    "    \n",
    "    return word_frequencies\n",
    "\n",
    "text = \"Live is life, Na, na, na, na-na\"\n",
    "result = tf(text)\n",
    "# print(result)\n",
    "result"
   ]
  },
  {
   "cell_type": "code",
   "execution_count": 8,
   "id": "f6e31e13",
   "metadata": {},
   "outputs": [
    {
     "data": {
      "text/plain": [
       "array([ 1.85599749,  0.65083716,  0.70913196, -0.55648266])"
      ]
     },
     "execution_count": 8,
     "metadata": {},
     "output_type": "execute_result"
    }
   ],
   "source": [
    "import numpy as np\n",
    "import pandas as pd\n",
    "\n",
    "url = \"https://raw.githubusercontent.com/DmitryPavlyuk/python-da/main/week4/iris.csv\"\n",
    "iris_data = pd.read_csv(url, header=None, skiprows=1)\n",
    "\n",
    "y = iris_data.iloc[:, 0].values\n",
    "X = iris_data.iloc[:, 1:4].values\n",
    "X = np.column_stack((np.ones(X.shape[0]), X))\n",
    "\n",
    "XtX = np.dot(X.T, X)\n",
    "XtX_inv = np.linalg.inv(XtX)\n",
    "XtX_inv_Xt = np.dot(XtX_inv, X.T)\n",
    "beta = np.dot(XtX_inv_Xt, y)\n",
    "\n",
    "beta"
   ]
  },
  {
   "cell_type": "code",
   "execution_count": 4,
   "id": "96ee8990",
   "metadata": {},
   "outputs": [
    {
     "name": "stdout",
     "output_type": "stream",
     "text": [
      "     sepal.length  sepal.width  petal.length  petal.width     variety  \\\n",
      "27            5.2          3.5           1.5          0.2      Setosa   \n",
      "147           6.5          3.0           5.2          2.0   Virginica   \n",
      "55            5.7          2.8           4.5          1.3  Versicolor   \n",
      "130           7.4          2.8           6.1          1.9   Virginica   \n",
      "115           6.4          3.2           5.3          2.3   Virginica   \n",
      "119           6.0          2.2           5.0          1.5   Virginica   \n",
      "95            5.7          3.0           4.2          1.2  Versicolor   \n",
      "19            5.1          3.8           1.5          0.3      Setosa   \n",
      "62            6.0          2.2           4.0          1.0  Versicolor   \n",
      "21            5.1          3.7           1.5          0.4      Setosa   \n",
      "\n",
      "     mean_sepal_length  \n",
      "27               5.006  \n",
      "147              6.588  \n",
      "55               5.936  \n",
      "130              6.588  \n",
      "115              6.588  \n",
      "119              6.588  \n",
      "95               5.936  \n",
      "19               5.006  \n",
      "62               5.936  \n",
      "21               5.006  \n"
     ]
    }
   ],
   "source": [
    "import pandas as pd\n",
    "\n",
    "url = \"https://raw.githubusercontent.com/DmitryPavlyuk/python-da/main/week4/iris.csv\"\n",
    "df = pd.read_csv(url)\n",
    "\n",
    "variety_mean_sepal_length = df.groupby('variety')['sepal.length'].mean().reset_index()\n",
    "variety_mean_sepal_length.columns = ['variety', 'mean_sepal_length']\n",
    "\n",
    "df = df.merge(variety_mean_sepal_length, on='variety')\n",
    "\n",
    "print(df.sample(10))"
   ]
  },
  {
   "cell_type": "code",
   "execution_count": 5,
   "id": "f7a0cb16",
   "metadata": {},
   "outputs": [
    {
     "data": {
      "image/png": "[encoded data removed]",
      "text/plain": [
       "<Figure size 864x432 with 1 Axes>"
      ]
     },
     "metadata": {
      "needs_background": "light"
     },
     "output_type": "display_data"
    }
   ],
   "source": [
    "import requests\n",
    "import matplotlib.pyplot as plt\n",
    "import seaborn as sns\n",
    "from datetime import datetime\n",
    "\n",
    "api_url = \"https://api.open-meteo.com/v1/forecast\"\n",
    "params = {\n",
    "    \"latitude\": 56.9496,\n",
    "    \"longitude\": 24.1052,\n",
    "    \"hourly\": \"temperature_2m\",\n",
    "    \"start\": datetime.now().strftime(\"%Y-%m-%d\"),\n",
    "    \"end\": (datetime.now() + pd.Timedelta(days=14)).strftime(\"%Y-%m-%d\")\n",
    "}\n",
    "\n",
    "\n",
    "response = requests.get(api_url, params=params)\n",
    "\n",
    "if response.status_code == 200:\n",
    "    weather_data = response.json()\n",
    "    temperatures = weather_data['hourly']['temperature_2m']\n",
    "    timestamps = weather_data['hourly']['time']\n",
    "\n",
    "    dates = [datetime.fromisoformat(ts) for ts in timestamps]\n",
    "\n",
    "    plt.figure(figsize=(12, 6))\n",
    "    sns.lineplot(x=dates, y=temperatures)\n",
    "    plt.title(\"Hourly Air Temperature Forecast for Next 14 Days in Riga\")\n",
    "    plt.xlabel(\"Date and Time\")\n",
    "    plt.ylabel(\"Temperature (°C)\")\n",
    "    plt.xticks(rotation=45)\n",
    "    plt.tight_layout()\n",
    "    plt.show()\n",
    "else:\n",
    "    print(\"Failed to retrieve data from Open-Meteo API\")"
   ]
  },
  {
   "cell_type": "code",
   "execution_count": null,
   "id": "a5091111",
   "metadata": {},
   "outputs": [],
   "source": []
  }
 ],
 "metadata": {
  "kernelspec": {
   "display_name": "Python 3 (ipykernel)",
   "language": "python",
   "name": "python3"
  },
  "language_info": {
   "codemirror_mode": {
    "name": "ipython",
    "version": 3
   },
   "file_extension": ".py",
   "mimetype": "text/x-python",
   "name": "python",
   "nbconvert_exporter": "python",
   "pygments_lexer": "ipython3",
   "version": "3.9.7"
  }
 },
 "nbformat": 4,
 "nbformat_minor": 5
}
