{
  "nbformat": 4,
  "nbformat_minor": 0,
  "metadata": {
    "colab": {
      "provenance": [],
      "authorship_tag": "ABX9TyNd+ZP8azIbtTWtXyZUJib2",
      "include_colab_link": true
    },
    "kernelspec": {
      "name": "python3",
      "display_name": "Python 3"
    },
    "language_info": {
      "name": "python"
    }
  },
  "cells": [
    {
      "cell_type": "markdown",
      "metadata": {
        "id": "view-in-github",
        "colab_type": "text"
      },
      "source": [
        "<a href=\"https://colab.research.google.com/github/NataKrj/AI-project-2024/blob/main/Search_Company_Info.ipynb\" target=\"_parent\"><img src=\"https://colab.research.google.com/assets/colab-badge.svg\" alt=\"Open In Colab\"/></a>"
      ]
    },
    {
      "cell_type": "code",
      "source": [
        "!pip install fpdf"
      ],
      "metadata": {
        "colab": {
          "base_uri": "https://localhost:8080/"
        },
        "id": "ZEDq15N_3ydn",
        "outputId": "6a1fe49b-2cf6-4cdb-ddf0-ae75623272bd"
      },
      "execution_count": 2,
      "outputs": [
        {
          "output_type": "stream",
          "name": "stdout",
          "text": [
            "Collecting fpdf\n",
            "  Downloading fpdf-1.7.2.tar.gz (39 kB)\n",
            "  Preparing metadata (setup.py) ... \u001b[?25l\u001b[?25hdone\n",
            "Building wheels for collected packages: fpdf\n",
            "  Building wheel for fpdf (setup.py) ... \u001b[?25l\u001b[?25hdone\n",
            "  Created wheel for fpdf: filename=fpdf-1.7.2-py2.py3-none-any.whl size=40704 sha256=52dc02a3cab16c2031808101d367a44171c61aa43a74e5e73e86deccf54c57e4\n",
            "  Stored in directory: /root/.cache/pip/wheels/f9/95/ba/f418094659025eb9611f17cbcaf2334236bf39a0c3453ea455\n",
            "Successfully built fpdf\n",
            "Installing collected packages: fpdf\n",
            "Successfully installed fpdf-1.7.2\n"
          ]
        }
      ]
    },
    {
      "cell_type": "code",
      "execution_count": 4,
      "metadata": {
        "colab": {
          "base_uri": "https://localhost:8080/"
        },
        "id": "i_rw5_h-3pKq",
        "outputId": "2c02f529-7bdb-40bb-e443-603608906223"
      },
      "outputs": [
        {
          "output_type": "stream",
          "name": "stdout",
          "text": [
            "Processing: TIANSHENG INDUSTRY AND TRADING CO., LTD.\n",
            "Successfully saved information for TIANSHENG INDUSTRY AND TRADING CO., LTD. from link https://transparint.com/documents/Panama_Papers_Entity_Names_List_2.txt\n"
          ]
        },
        {
          "output_type": "stream",
          "name": "stderr",
          "text": [
            "WARNING:bs4.dammit:Some characters could not be decoded, and were replaced with REPLACEMENT CHARACTER.\n"
          ]
        },
        {
          "output_type": "stream",
          "name": "stdout",
          "text": [
            "Successfully saved information for TIANSHENG INDUSTRY AND TRADING CO., LTD. from link https://gotocon.com/dl/goto-cph-2016/slides/MichaelHunger_HowTheInvestigativeJournalistsOfTheICIJUsedModernOpenSourceTechnologiesToUnearthTheStoriesOfThePanamaPapers.pdf\n"
          ]
        },
        {
          "output_type": "stream",
          "name": "stderr",
          "text": [
            "WARNING:bs4.dammit:Some characters could not be decoded, and were replaced with REPLACEMENT CHARACTER.\n"
          ]
        },
        {
          "output_type": "stream",
          "name": "stdout",
          "text": [
            "Successfully saved information for TIANSHENG INDUSTRY AND TRADING CO., LTD. from link https://gotocon.com/dl/goto-berlin-2016/slides/MichaelHunger_EnablingThePanamaPapersInvestigationsWithOpenSourceTools.pdf\n",
            "Successfully saved information for TIANSHENG INDUSTRY AND TRADING CO., LTD. from link https://www.slideshare.net/slideshow/how-graphs-help-investigative-journalists-to-connect-the-dots/207636242\n",
            "Processing: NINGBO SUNRISE ENTERPRISES UNITED CO., LTD.\n",
            "Successfully saved information for NINGBO SUNRISE ENTERPRISES UNITED CO., LTD. from link https://transparint.com/documents/Panama_Papers_Entity_Names_List_2.txt\n",
            "Processing: HOTFOCUS CO., LTD.\n",
            "Successfully saved information for HOTFOCUS CO., LTD. from link https://offshoreleaks.icij.org/investigations/panama-papers?c=AND&cat=2%2F1000&from=1100&j=ANG%2CAI%2CAIA\n",
            "Successfully saved information for HOTFOCUS CO., LTD. from link https://transparint.com/documents/Panama_Papers_Entity_Names_List_2.txt\n",
            "Successfully saved information for HOTFOCUS CO., LTD. from link https://www.trademo.com/companies/blackwell-associates/4224370\n",
            "Processing: SKY-BLUE GIFTS & TOYS CO., LTD.\n",
            "Successfully saved information for SKY-BLUE GIFTS & TOYS CO., LTD. from link https://offshoreleaks.icij.org/investigations/panama-papers?c=ARE&cat=0&from=500&j=ANG%2CAI%2CAIA\n",
            "Successfully saved information for SKY-BLUE GIFTS & TOYS CO., LTD. from link https://www.trademo.com/companies/sky-blue-gifts-toys-company/3840320\n",
            "Successfully saved information for SKY-BLUE GIFTS & TOYS CO., LTD. from link https://offshoreleaks.icij.org/providers/mossack-fonseca?cat=0&e=true&e=true&from=500&j=ANG%2CAI%2CAIA\n",
            "Successfully saved information for SKY-BLUE GIFTS & TOYS CO., LTD. from link https://transparint.com/documents/Panama_Papers_Entity_Names_List_2.txt\n",
            "Successfully saved information for SKY-BLUE GIFTS & TOYS CO., LTD. from link https://jwrealty.sg/aml/panama_papers_list.php?goto=1190\n"
          ]
        },
        {
          "output_type": "stream",
          "name": "stderr",
          "text": [
            "WARNING:bs4.dammit:Some characters could not be decoded, and were replaced with REPLACEMENT CHARACTER.\n"
          ]
        },
        {
          "output_type": "stream",
          "name": "stdout",
          "text": [
            "Successfully saved information for SKY-BLUE GIFTS & TOYS CO., LTD. from link https://s3.amazonaws.com/pageturnpro2.com/Publications/201512/1740/69922/PDF/130957983652740000_TFT2016lores.pdf\n",
            "Successfully saved information for SKY-BLUE GIFTS & TOYS CO., LTD. from link https://es.importgenius.com/tradebase/browse/importer/latest/13279\n"
          ]
        },
        {
          "output_type": "stream",
          "name": "stderr",
          "text": [
            "WARNING:bs4.dammit:Some characters could not be decoded, and were replaced with REPLACEMENT CHARACTER.\n"
          ]
        },
        {
          "output_type": "stream",
          "name": "stdout",
          "text": [
            "Successfully saved information for SKY-BLUE GIFTS & TOYS CO., LTD. from link https://www.hktdc.com/event/hktoyfair/wp-content/uploads/sites/46/2024/01/Fair-Catalogue.pdf\n",
            "Processing: FORTUNEMAKER INVESTMENTS CORPORATION\n",
            "Successfully saved information for FORTUNEMAKER INVESTMENTS CORPORATION from link https://transparint.com/documents/Panama_Papers_Entity_Names_List_2.txt\n",
            "Processing: 8808 HOLDING LIMITED\n",
            "Successfully saved information for 8808 HOLDING LIMITED from link https://transparint.com/documents/Panama_Papers_Entity_Names_List_2.txt\n"
          ]
        },
        {
          "output_type": "stream",
          "name": "stderr",
          "text": [
            "WARNING:bs4.dammit:Some characters could not be decoded, and were replaced with REPLACEMENT CHARACTER.\n"
          ]
        },
        {
          "output_type": "stream",
          "name": "stdout",
          "text": [
            "Successfully saved information for 8808 HOLDING LIMITED from link https://www.hkexnews.hk/listedco/listconews/sehk/20080313/LTN20080313270.pdf\n",
            "Failed to fetch page for 8808 HOLDING LIMITED from link https://ca.linkedin.com/in/rupinder-singh-276778186: 429\n",
            "Successfully saved information for 8808 HOLDING LIMITED from link https://issuu.com/walcom/docs/admission_document_06_12\n",
            "Processing: KENT DEVELOPMENT LIMITED\n",
            "Successfully saved information for KENT DEVELOPMENT LIMITED from link https://transparint.com/documents/Panama_Papers_Entity_Names_List_2.txt\n"
          ]
        },
        {
          "output_type": "stream",
          "name": "stderr",
          "text": [
            "WARNING:bs4.dammit:Some characters could not be decoded, and were replaced with REPLACEMENT CHARACTER.\n"
          ]
        },
        {
          "output_type": "stream",
          "name": "stdout",
          "text": [
            "Successfully saved information for KENT DEVELOPMENT LIMITED from link https://www.thegazette.co.uk/London/issue/825810/supplement/799/data.pdf\n",
            "Successfully saved information for KENT DEVELOPMENT LIMITED from link https://www.companysearchesmadesimple.com/company/uk/09685051/hillview-kent-development-limited/\n",
            "Successfully saved information for KENT DEVELOPMENT LIMITED from link https://webb-site.com/dbpub/esstop.asp\n",
            "Successfully saved information for KENT DEVELOPMENT LIMITED from link https://pomanda.com/company/00771453/sinclair-gardens-investments-(kensington)-limited\n",
            "Successfully saved information for KENT DEVELOPMENT LIMITED from link https://companieshousecyprus.com/company/C50195/\n",
            "Successfully saved information for KENT DEVELOPMENT LIMITED from link https://www.companysearchesmadesimple.com/company/uk/10050118/yellowjack-construction-limited/\n",
            "Successfully saved information for KENT DEVELOPMENT LIMITED from link https://companieshousecyprus.com/company/C73921/\n"
          ]
        },
        {
          "output_type": "stream",
          "name": "stderr",
          "text": [
            "WARNING:bs4.dammit:Some characters could not be decoded, and were replaced with REPLACEMENT CHARACTER.\n"
          ]
        },
        {
          "output_type": "stream",
          "name": "stdout",
          "text": [
            "Successfully saved information for KENT DEVELOPMENT LIMITED from link https://www.cr.gov.hk/docs/wrpt/wk_new&changednamecoys_20121210.pdf\n",
            "Successfully saved information for KENT DEVELOPMENT LIMITED from link https://pomanda.com/company/03852183/royal-bay-care-homes-ltd\n",
            "Processing: BONUS TRADE LIMITED\n",
            "Successfully saved information for BONUS TRADE LIMITED from link https://transparint.com/documents/Panama_Papers_Entity_Names_List_2.txt\n",
            "Failed to fetch page for BONUS TRADE LIMITED from link https://studylib.net/doc/18892251/contents---government-of-the-virgin-islands: 403\n",
            "Processing: AMARANDAN LTD.\n",
            "Successfully saved information for AMARANDAN LTD. from link https://transparint.com/documents/Panama_Papers_Entity_Names_List_2.txt\n",
            "Processing: NEW IDEA LIMITED\n",
            "Successfully saved information for NEW IDEA LIMITED from link https://www.dnb.com/business-directory/company-profiles.new_idea_limited.4cd4a26e9e70fe0f4b71b4cd8ff8b5cc.html\n",
            "Successfully saved information for NEW IDEA LIMITED from link https://www.inriskable.com/business_info/company/hk/69445120\n",
            "Successfully saved information for NEW IDEA LIMITED from link https://transparint.com/documents/Panama_Papers_Entity_Names_List_2.txt\n",
            "Successfully saved information for NEW IDEA LIMITED from link https://www.inriskable.com/business_info/company/hk/C0876958\n",
            "Successfully saved information for NEW IDEA LIMITED from link https://www.checkfree.co.uk/Company/08067070/MY-BRAND-NEW-IDEA-LIMITED/Company-Details/\n",
            "Successfully saved information for NEW IDEA LIMITED from link https://www.dnb.com/business-directory/company-information.administrative_and_support_and_waste_management_and_remediation_services.hk.na.ngau_tau_kok.html?page=1\n"
          ]
        },
        {
          "output_type": "stream",
          "name": "stderr",
          "text": [
            "WARNING:bs4.dammit:Some characters could not be decoded, and were replaced with REPLACEMENT CHARACTER.\n"
          ]
        },
        {
          "output_type": "stream",
          "name": "stdout",
          "text": [
            "Successfully saved information for NEW IDEA LIMITED from link https://files.eric.ed.gov/fulltext/ED408754.pdf\n",
            "Failed to fetch page for NEW IDEA LIMITED from link https://www.ebay.com.au/itm/135283690866?srsltid=AfmBOoqp1EqRq_EPBYqrkZrpUMDK3oj71Xw1sK9K6SzsmvTG0YULou6W: 503\n",
            "Failed to fetch page for NEW IDEA LIMITED from link https://www.reddit.com/r/StarWars/comments/14yr3ce/if_you_could_add_or_remove_one_thing_from_the/: 403\n",
            "Failed to fetch page for NEW IDEA LIMITED from link https://quizlet.com/103470691/canadian-property-law-flash-cards/: 403\n"
          ]
        }
      ],
      "source": [
        "import os\n",
        "import csv\n",
        "import time\n",
        "import requests\n",
        "from bs4 import BeautifulSoup\n",
        "from fpdf import FPDF\n",
        "import urllib3\n",
        "\n",
        "# Suppress only the single InsecureRequestWarning from urllib3\n",
        "urllib3.disable_warnings(urllib3.exceptions.InsecureRequestWarning)\n",
        "\n",
        "# Load the CSV file\n",
        "file_path = 'company_search_results.csv'\n",
        "output_directory = 'company_info'\n",
        "output_pdf_directory = 'company_screenshots'\n",
        "\n",
        "# Create output directories if not exist\n",
        "os.makedirs(output_directory, exist_ok=True)\n",
        "os.makedirs(output_pdf_directory, exist_ok=True)\n",
        "\n",
        "# Read the CSV file\n",
        "with open(file_path, newline='', encoding='utf-8') as csvfile:\n",
        "    reader = csv.DictReader(csvfile)\n",
        "    company_links = {}\n",
        "    for row in reader:\n",
        "        company = row[\"company\"]\n",
        "        link = row[\"link\"]\n",
        "        if link != \"N/A\":\n",
        "            if company not in company_links:\n",
        "                company_links[company] = []\n",
        "            company_links[company].append(link)\n",
        "\n",
        "def save_page_info(company, link):\n",
        "    try:\n",
        "        headers = {'User-Agent': 'Mozilla/5.0 (Windows NT 10.0; Win64; x64) AppleWebKit/537.36 (KHTML, like Gecko) Chrome/85.0.4183.121 Safari/537.36'}\n",
        "        response = requests.get(link, headers=headers, verify=False)  # Disable SSL verification to avoid CERTIFICATE_VERIFY_FAILED\n",
        "        if response.status_code != 200:\n",
        "            print(f\"Failed to fetch page for {company} from link {link}: {response.status_code}\")\n",
        "            return\n",
        "\n",
        "        # Use the original encoding if available, otherwise default to 'utf-8'\n",
        "        soup = BeautifulSoup(response.content, 'html.parser', from_encoding=response.encoding)\n",
        "        text_content = soup.get_text(separator='\\n').strip()\n",
        "\n",
        "        # Replace problematic characters\n",
        "        text_content = text_content.encode('utf-8', 'ignore').decode('utf-8', 'ignore')\n",
        "\n",
        "        # Check if the content is empty\n",
        "        if not text_content:\n",
        "            print(f\"No relevant content found for {company} from link {link}, skipping file creation.\")\n",
        "            return\n",
        "\n",
        "        # Save text content to a file\n",
        "        text_file_path = os.path.join(output_directory, f\"{company}.txt\")\n",
        "        with open(text_file_path, \"a\", encoding=\"utf-8\") as text_file:  # Append mode to add content from multiple links\n",
        "            text_file.write(f\"\\n\\n--- Content from: {link} ---\\n\\n\")\n",
        "            text_file.write(text_content)\n",
        "\n",
        "        # Create PDF with page content\n",
        "        pdf_path = os.path.join(output_pdf_directory, f\"{company}.pdf\")\n",
        "        pdf = FPDF()\n",
        "        if os.path.exists(pdf_path):\n",
        "            pdf.output(pdf_path, \"F\")  # Append mode if PDF already exists\n",
        "        pdf.add_page()\n",
        "        pdf.set_font(\"Arial\", size=12)\n",
        "        pdf.multi_cell(0, 10, f\"Content from: {link}\\n\")\n",
        "        for line in text_content.split('\\n'):\n",
        "            pdf.multi_cell(0, 10, line.encode('latin-1', 'replace').decode('latin-1'))  # Handle encoding errors by replacing invalid characters\n",
        "        pdf.output(pdf_path)\n",
        "\n",
        "        print(f\"Successfully saved information for {company} from link {link}\")\n",
        "    except Exception as e:\n",
        "        print(f\"An error occurred for {company} from link {link}: {e}\")\n",
        "\n",
        "def main():\n",
        "    for company, links in company_links.items():\n",
        "        print(f\"Processing: {company}\")\n",
        "        for link in links:\n",
        "            save_page_info(company, link)\n",
        "            time.sleep(2)  # Respect server requests and avoid rapid requests\n",
        "\n",
        "if __name__ == \"__main__\":\n",
        "    main()"
      ]
    }
  ]
}
