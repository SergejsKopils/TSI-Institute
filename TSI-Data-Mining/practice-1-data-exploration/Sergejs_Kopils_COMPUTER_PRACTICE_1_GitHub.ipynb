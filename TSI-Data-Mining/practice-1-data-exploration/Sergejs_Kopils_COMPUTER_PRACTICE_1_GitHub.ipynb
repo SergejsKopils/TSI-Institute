{
 "cells": [
  {
   "cell_type": "markdown",
   "id": "655ca4f9",
   "metadata": {},
   "source": [
    "# Intruduction"
   ]
  },
  {
   "cell_type": "markdown",
   "id": "44d73c91",
   "metadata": {},
   "source": [
    "The Auto MPG dataset, critical for automotive research, provides detailed data on vehicle fuel efficiency from the late 1970s to early 1980s. Beyond historical value, it helps understand the evolution of vehicle efficiency and its driving factors. This report analyzes the dataset to uncover insights into automotive efficiency, focusing on the characteristics that influence fuel economy and identifying trends and patterns in vehicle design, performance, and the potential to predict fuel efficiency from vehicle attributes."
   ]
  },
  {
   "cell_type": "markdown",
   "id": "ec45e570",
   "metadata": {},
   "source": [
    "# Methodology"
   ]
  },
  {
   "cell_type": "markdown",
   "id": "4161e1ae",
   "metadata": {},
   "source": [
    "The methodology for this analysis revolves around Python, a programming language favored in the data science community for its ease of use and powerful libraries tailored for data analysis."
   ]
  },
  {
   "cell_type": "markdown",
   "id": "712cd48c",
   "metadata": {},
   "source": [
    "#### The tools and libraries employed in this study include:"
   ]
  },
  {
   "cell_type": "markdown",
   "id": "5cae0473",
   "metadata": {},
   "source": [
    "1. Python: For its versatile programming capabilities in data manipulation and calculation.\n",
    "2. Pandas: Utilized for its robust data structures and functions for efficient data handling and operations.\n",
    "3. Matplotlib and Seaborn: These libraries are instrumental in visualizing data, enabling the creation of a variety of informative and interactive plots."
   ]
  },
  {
   "cell_type": "markdown",
   "id": "71dd76ab",
   "metadata": {},
   "source": [
    "# Dataset Overview"
   ]
  },
  {
   "cell_type": "markdown",
   "id": "40d17838",
   "metadata": {},
   "source": [
    "The Auto MPG dataset is composed of several columns representing different attributes of automobiles, such as 'mpg', 'cylinders', 'displacement', 'horsepower', 'weight', 'acceleration', 'model year', 'origin', and 'car model'. These attributes capture both the physical and performance characteristics of the vehicles, providing a comprehensive set of features for analysis."
   ]
  },
  {
   "cell_type": "markdown",
   "id": "69093780",
   "metadata": {},
   "source": [
    "#### Loading the Dataset and Displaying its Structure"
   ]
  },
  {
   "cell_type": "code",
   "execution_count": 1,
   "id": "7858bca5",
   "metadata": {},
   "outputs": [
    {
     "data": {
      "text/html": [
       "<div>\n",
       "<style scoped>\n",
       "    .dataframe tbody tr th:only-of-type {\n",
       "        vertical-align: middle;\n",
       "    }\n",
       "\n",
       "    .dataframe tbody tr th {\n",
       "        vertical-align: top;\n",
       "    }\n",
       "\n",
       "    .dataframe thead th {\n",
       "        text-align: right;\n",
       "    }\n",
       "</style>\n",
       "<table border=\"1\" class=\"dataframe\">\n",
       "  <thead>\n",
       "    <tr style=\"text-align: right;\">\n",
       "      <th></th>\n",
       "      <th>mpg</th>\n",
       "      <th>cylinders</th>\n",
       "      <th>displacement</th>\n",
       "      <th>horsepower</th>\n",
       "      <th>weight</th>\n",
       "      <th>acceleration</th>\n",
       "      <th>model year</th>\n",
       "      <th>origin</th>\n",
       "      <th>Car model</th>\n",
       "    </tr>\n",
       "  </thead>\n",
       "  <tbody>\n",
       "    <tr>\n",
       "      <th>0</th>\n",
       "      <td>18.0</td>\n",
       "      <td>8</td>\n",
       "      <td>307.0</td>\n",
       "      <td>130</td>\n",
       "      <td>3504</td>\n",
       "      <td>12.0</td>\n",
       "      <td>70</td>\n",
       "      <td>1</td>\n",
       "      <td>chevrolet</td>\n",
       "    </tr>\n",
       "    <tr>\n",
       "      <th>1</th>\n",
       "      <td>15.0</td>\n",
       "      <td>8</td>\n",
       "      <td>429.0</td>\n",
       "      <td>198</td>\n",
       "      <td>4341</td>\n",
       "      <td>10.0</td>\n",
       "      <td>70</td>\n",
       "      <td>1</td>\n",
       "      <td>ford</td>\n",
       "    </tr>\n",
       "    <tr>\n",
       "      <th>2</th>\n",
       "      <td>15.0</td>\n",
       "      <td>8</td>\n",
       "      <td>383.0</td>\n",
       "      <td>170</td>\n",
       "      <td>3563</td>\n",
       "      <td>10.0</td>\n",
       "      <td>70</td>\n",
       "      <td>1</td>\n",
       "      <td>dodge</td>\n",
       "    </tr>\n",
       "    <tr>\n",
       "      <th>3</th>\n",
       "      <td>15.0</td>\n",
       "      <td>8</td>\n",
       "      <td>400.0</td>\n",
       "      <td>150</td>\n",
       "      <td>3761</td>\n",
       "      <td>9.5</td>\n",
       "      <td>70</td>\n",
       "      <td>1</td>\n",
       "      <td>chevrolet</td>\n",
       "    </tr>\n",
       "    <tr>\n",
       "      <th>4</th>\n",
       "      <td>24.0</td>\n",
       "      <td>4</td>\n",
       "      <td>113.0</td>\n",
       "      <td>95</td>\n",
       "      <td>2372</td>\n",
       "      <td>15.0</td>\n",
       "      <td>70</td>\n",
       "      <td>3</td>\n",
       "      <td>toyota</td>\n",
       "    </tr>\n",
       "  </tbody>\n",
       "</table>\n",
       "</div>"
      ],
      "text/plain": [
       "    mpg  cylinders  displacement horsepower  weight  acceleration  model year  \\\n",
       "0  18.0          8         307.0        130    3504          12.0          70   \n",
       "1  15.0          8         429.0        198    4341          10.0          70   \n",
       "2  15.0          8         383.0        170    3563          10.0          70   \n",
       "3  15.0          8         400.0        150    3761           9.5          70   \n",
       "4  24.0          4         113.0         95    2372          15.0          70   \n",
       "\n",
       "   origin   Car model  \n",
       "0       1  chevrolet   \n",
       "1       1       ford   \n",
       "2       1      dodge   \n",
       "3       1  chevrolet   \n",
       "4       3     toyota   "
      ]
     },
     "execution_count": 1,
     "metadata": {},
     "output_type": "execute_result"
    }
   ],
   "source": [
    "import pandas as pd\n",
    "\n",
    "# Load the dataset\n",
    "dataset_path = 'ST83519 Auto-mpg dataset.csv'\n",
    "auto_mpg_df = pd.read_csv(dataset_path)\n",
    "\n",
    "# Display the first few rows to understand its structure\n",
    "auto_mpg_df.head()"
   ]
  },
  {
   "cell_type": "markdown",
   "id": "75de5c98",
   "metadata": {},
   "source": [
    "Executing this code will load the dataset into a Pandas DataFrame and display the first few rows, allowing for an initial assessment of the data structure, including the column names and types of data contained within each feature."
   ]
  },
  {
   "cell_type": "markdown",
   "id": "3ce8b219",
   "metadata": {},
   "source": [
    "# Data Cleaning and Preprocessing"
   ]
  },
  {
   "cell_type": "markdown",
   "id": "7dc59767",
   "metadata": {},
   "source": [
    "One of the critical steps in data preparation involves ensuring that all variables are in the correct format for analysis. In the Auto MPG dataset, the 'horsepower' column was identified as a candidate for data type conversion. Originally cast as a string due to the presence of non-numeric characters, it required conversion to a numeric format. This process was handled by Pandas, with non-convertible values set as NaN (Not a Number), ensuring the integrity of subsequent analyses.\n",
    "\n",
    "Following the conversion, an essential step in data cleaning is the identification and treatment of missing values. Missing data can introduce bias and inaccuracies in the analysis if not addressed appropriately."
   ]
  },
  {
   "cell_type": "markdown",
   "id": "db8857cc",
   "metadata": {},
   "source": [
    "#### Conversion of 'horsepower' and Handling of Missing Values"
   ]
  },
  {
   "cell_type": "code",
   "execution_count": 2,
   "id": "988e5d6a",
   "metadata": {},
   "outputs": [],
   "source": [
    "# Convert 'horsepower' to numeric, setting errors='coerce' to turn non-numeric values to NaN\n",
    "auto_mpg_df['horsepower'] = pd.to_numeric(auto_mpg_df['horsepower'], errors='coerce')\n",
    "\n",
    "# Check for any NaN values in the dataset after conversion\n",
    "nan_check = auto_mpg_df.isnull().sum()\n"
   ]
  },
  {
   "cell_type": "markdown",
   "id": "3e86781f",
   "metadata": {},
   "source": [
    "Executing the above code converts the 'horsepower' column to a numeric data type and reveals any instances of NaN values that may need further treatment, such as imputation or removal, depending on their prevalence and impact on the dataset."
   ]
  },
  {
   "cell_type": "markdown",
   "id": "f6491de2",
   "metadata": {},
   "source": [
    "#### Descriptive Statistics for Continuous Variables"
   ]
  },
  {
   "cell_type": "markdown",
   "id": "044344d4",
   "metadata": {},
   "source": [
    "With the dataset in a cleaner state, the next step is to summarize the continuous variables using descriptive statistics. This process offers a comprehensive overview, revealing insights into the central tendency, variability, and overall distribution of the data."
   ]
  },
  {
   "cell_type": "code",
   "execution_count": 3,
   "id": "b592527b",
   "metadata": {},
   "outputs": [],
   "source": [
    "# Calculate descriptive statistics for continuous variables\n",
    "descriptive_stats = auto_mpg_df.describe().transpose()"
   ]
  },
  {
   "cell_type": "markdown",
   "id": "f132f811",
   "metadata": {},
   "source": [
    "This code calculates and transposes the descriptive statistics for easier reading and interpretation. It includes measures such as mean, median, standard deviation, and range for each continuous variable, providing a statistical summary that forms the basis for initial observations and hypotheses about the data."
   ]
  },
  {
   "cell_type": "code",
   "execution_count": 4,
   "id": "f45f5848",
   "metadata": {},
   "outputs": [
    {
     "data": {
      "text/plain": [
       "(mpg             0\n",
       " cylinders       0\n",
       " displacement    0\n",
       " horsepower      2\n",
       " weight          0\n",
       " acceleration    0\n",
       " model year      0\n",
       " origin          0\n",
       " Car model       0\n",
       " dtype: int64,\n",
       "               count         mean         std     min     25%     50%      75%  \\\n",
       " mpg           107.0    23.244860    7.966169    11.0    16.7    21.6    28.55   \n",
       " cylinders     107.0     5.542056    1.787168     4.0     4.0     4.0     8.00   \n",
       " displacement  107.0   198.995327  110.015147    68.0    98.0   151.0   304.50   \n",
       " horsepower    105.0   107.952381   41.271004    46.0    78.0    95.0   140.00   \n",
       " weight        107.0  3012.308411  920.236018  1755.0  2208.0  2735.0  3661.50   \n",
       " acceleration  107.0    15.580374    2.921438     9.5    13.5    15.2    17.25   \n",
       " model year    107.0    76.000000    3.826423    70.0    72.5    77.0    79.00   \n",
       " origin        107.0     1.626168    0.841420     1.0     1.0     1.0     2.00   \n",
       " \n",
       "                  max  \n",
       " mpg             44.3  \n",
       " cylinders        8.0  \n",
       " displacement   455.0  \n",
       " horsepower     230.0  \n",
       " weight        5140.0  \n",
       " acceleration    23.7  \n",
       " model year      82.0  \n",
       " origin           3.0  )"
      ]
     },
     "execution_count": 4,
     "metadata": {},
     "output_type": "execute_result"
    }
   ],
   "source": [
    "# Display checks for NaN values and the descriptive statistics\n",
    "nan_check, descriptive_stats"
   ]
  },
  {
   "cell_type": "markdown",
   "id": "f21bd374",
   "metadata": {},
   "source": [
    "When presenting the output of this code, the report will detail the findings, highlighting any significant patterns or anomalies observed in the statistics. For instance, a high standard deviation in 'weight' might suggest a wide variety of car weights in the dataset, while a low standard deviation in 'mpg' could indicate that most vehicles have similar fuel efficiency."
   ]
  },
  {
   "cell_type": "markdown",
   "id": "59d92adc",
   "metadata": {},
   "source": [
    "# Addressing Missing Values in 'Horsepower'"
   ]
  },
  {
   "cell_type": "markdown",
   "id": "236f131c",
   "metadata": {},
   "source": [
    "After identifying missing values in the 'horsepower' column, a strategic decision was made to address these gaps to maintain the dataset's integrity and ensure the accuracy of the analysis. The chosen method was to impute these missing values with the mean horsepower across all vehicles in the dataset. This approach is grounded in the rationale that replacing missing values with the mean ensures minimal distortion of the overall data distribution, especially when the proportion of missing data is relatively small."
   ]
  },
  {
   "cell_type": "markdown",
   "id": "2b4ed194",
   "metadata": {},
   "source": [
    "#### Code for Imputing Missing Values"
   ]
  },
  {
   "cell_type": "code",
   "execution_count": 5,
   "id": "c7eea4ab",
   "metadata": {},
   "outputs": [
    {
     "data": {
      "text/plain": [
       "mpg             0\n",
       "cylinders       0\n",
       "displacement    0\n",
       "horsepower      0\n",
       "weight          0\n",
       "acceleration    0\n",
       "model year      0\n",
       "origin          0\n",
       "Car model       0\n",
       "dtype: int64"
      ]
     },
     "execution_count": 5,
     "metadata": {},
     "output_type": "execute_result"
    }
   ],
   "source": [
    "# Fill missing values in 'horsepower' with the mean of the column\n",
    "auto_mpg_df['horsepower'].fillna(auto_mpg_df['horsepower'].mean(), inplace=True)\n",
    "\n",
    "# Verify if there are any NaN values left\n",
    "nan_check_updated = auto_mpg_df.isnull().sum()\n",
    "\n",
    "# Display the updated check for NaN values\n",
    "nan_check_updated"
   ]
  },
  {
   "cell_type": "markdown",
   "id": "9b3b1e78",
   "metadata": {},
   "source": [
    "This segment of code effectively imputes the missing 'horsepower' values with the column's mean and re-checks the dataset for any remaining NaN values. The operation is performed in-place, meaning the original DataFrame is updated directly without the need to create a copy."
   ]
  },
  {
   "cell_type": "markdown",
   "id": "ee188838",
   "metadata": {},
   "source": [
    "# Interpretation, Impact, and Categorical Analysis"
   ]
  },
  {
   "cell_type": "markdown",
   "id": "4a941369",
   "metadata": {},
   "source": [
    "Imputing missing 'horsepower' values was crucial for the integrity of our dataset, ensuring accurate analysis without bias from missing data. This step, vital for the dataset's completeness, highlights the importance of thorough data cleaning for reliable results.\n",
    "\n",
    "We then shifted focus to categorical variables like 'cylinders', 'model year', 'origin', and 'Car model' in the Auto MPG dataset. Analyzing these variables sheds light on the variety and common patterns in vehicle attributes, revealing trends in manufacturing and design preferences. This understanding is essential for a comprehensive analysis of vehicle efficiency trends."
   ]
  },
  {
   "cell_type": "markdown",
   "id": "5c33bbdc",
   "metadata": {},
   "source": [
    "#### Code for Analyzing Categorical Variables"
   ]
  },
  {
   "cell_type": "code",
   "execution_count": 6,
   "id": "adb8ab17",
   "metadata": {},
   "outputs": [
    {
     "data": {
      "text/plain": [
       "{'cylinders': cylinders\n",
       " 4    57\n",
       " 8    33\n",
       " 6    16\n",
       " 5     1\n",
       " Name: count, dtype: int64,\n",
       " 'model year': model year\n",
       " 78    16\n",
       " 72    11\n",
       " 81    11\n",
       " 73    10\n",
       " 70     9\n",
       " 71     7\n",
       " 77     7\n",
       " 79     7\n",
       " 82     7\n",
       " 74     6\n",
       " 75     6\n",
       " 80     6\n",
       " 76     4\n",
       " Name: count, dtype: int64,\n",
       " 'origin': origin\n",
       " 1    65\n",
       " 3    25\n",
       " 2    17\n",
       " Name: count, dtype: int64,\n",
       " 'Car model': Car model\n",
       " toyota         13\n",
       " chevrolet      10\n",
       " dodge          10\n",
       " ford           10\n",
       " buick           7\n",
       " amc             7\n",
       " plymouth        7\n",
       " oldsmobile      5\n",
       " volkswagen      5\n",
       " datsun          5\n",
       " pontiac         4\n",
       " mazda           4\n",
       " honda           3\n",
       " mercury         3\n",
       " bmw             2\n",
       " fiat            2\n",
       " audi            2\n",
       " peugeot         2\n",
       " vw              2\n",
       " opel            1\n",
       " cadillac        1\n",
       " saab            1\n",
       " chrysler        1\n",
       " Name: count, dtype: int64}"
      ]
     },
     "execution_count": 6,
     "metadata": {},
     "output_type": "execute_result"
    }
   ],
   "source": [
    "# Calculate descriptive statistics for categorical variables: 'cylinders', 'model year', 'origin', and 'Car model'\n",
    "categorical_stats = {\n",
    "    'cylinders': auto_mpg_df['cylinders'].value_counts(),\n",
    "    'model year': auto_mpg_df['model year'].value_counts(),\n",
    "    'origin': auto_mpg_df['origin'].value_counts(),\n",
    "    'Car model': auto_mpg_df['Car model'].value_counts()\n",
    "}\n",
    "\n",
    "categorical_stats"
   ]
  },
  {
   "cell_type": "markdown",
   "id": "bb5ef7ee",
   "metadata": {},
   "source": [
    "This code snippet generates frequency distributions for each of the specified categorical variables, allowing us to observe how many vehicles fall into each category within these variables."
   ]
  },
  {
   "cell_type": "markdown",
   "id": "987cea64",
   "metadata": {},
   "source": [
    "# Categorical Variables Analysis\n"
   ]
  },
  {
   "cell_type": "markdown",
   "id": "06536818",
   "metadata": {},
   "source": [
    "Analyzing categorical variables such as 'cylinders', 'model year', 'origin', and 'Car model' highlights key insights: cylinder counts reflect engine popularity and design trends; model year frequencies indicate production changes and possible shifts in the automotive industry; origin demonstrates the dataset's global diversity; and car model analysis can uncover consumer preferences and manufacturing patterns. These findings lay the groundwork for understanding the dataset's depth and guiding further detailed analysis, including the exploration of fuel efficiency trends and how vehicle features have evolved. This knowledge is crucial for a targeted, informed approach in subsequent investigations, helping to uncover potential biases or gaps in the data."
   ]
  },
  {
   "cell_type": "markdown",
   "id": "8f20d802",
   "metadata": {},
   "source": [
    "# Data Visualization"
   ]
  },
  {
   "cell_type": "markdown",
   "id": "00b8a98c",
   "metadata": {},
   "source": [
    "With the dataset rigorously cleaned and its attributes thoroughly explored through descriptive statistics, the next logical step in our analysis involves visualizing these findings. Visualization not only aids in revealing underlying patterns and relationships within the data but also enhances the interpretability of our statistical observations, making complex data more accessible."
   ]
  },
  {
   "cell_type": "markdown",
   "id": "9f8d65ab",
   "metadata": {},
   "source": [
    "To this end, a series of plots have been generated to visually represent various aspects of the Auto MPG dataset:"
   ]
  },
  {
   "cell_type": "markdown",
   "id": "9b85be9c",
   "metadata": {},
   "source": [
    "#### Code for Generating Visualizations"
   ]
  },
  {
   "cell_type": "code",
   "execution_count": 7,
   "id": "f92f5f54",
   "metadata": {},
   "outputs": [
    {
     "data": {
      "image/png": "[encoded data removed]",
      "text/plain": [
       "<Figure size 1296x1296 with 6 Axes>"
      ]
     },
     "metadata": {
      "needs_background": "light"
     },
     "output_type": "display_data"
    }
   ],
   "source": [
    "import matplotlib.pyplot as plt\n",
    "import seaborn as sns\n",
    "\n",
    "# Set the aesthetic style of the plots\n",
    "sns.set_style(\"whitegrid\")\n",
    "\n",
    "# Prepare a figure to host multiple plots\n",
    "fig, axes = plt.subplots(3, 2, figsize=(18, 18))\n",
    "\n",
    "# Histogram for 'mpg'\n",
    "sns.histplot(auto_mpg_df['mpg'], bins=20, kde=True, ax=axes[0, 0])\n",
    "axes[0, 0].set_title('Figure 1: Histogram of MPG')\n",
    "\n",
    "# Box plot for 'horsepower'\n",
    "sns.boxplot(x='horsepower', data=auto_mpg_df, ax=axes[0, 1])\n",
    "axes[0, 1].set_title('Figure 2: Box Plot of Horsepower')\n",
    "\n",
    "# Bar chart for 'cylinders'\n",
    "sns.countplot(x='cylinders', data=auto_mpg_df, ax=axes[1, 0])\n",
    "axes[1, 0].set_title('Figure 3: Bar Chart of Cylinders')\n",
    "\n",
    "# Line chart for 'weight' vs. 'mpg'\n",
    "sns.lineplot(x='model year', y='mpg', data=auto_mpg_df, ax=axes[1, 1], marker='o')\n",
    "axes[1, 1].set_title('Figure 4: Line Chart of MPG over Model Years')\n",
    "\n",
    "# Scatter plot for 'displacement' vs. 'mpg'\n",
    "sns.scatterplot(x='displacement', y='mpg', data=auto_mpg_df, ax=axes[2, 0])\n",
    "axes[2, 0].set_title('Figure 5: Scatter Plot of Displacement vs. MPG')\n",
    "\n",
    "# Box plot for 'mpg' by 'origin'\n",
    "sns.boxplot(x='origin', y='mpg', data=auto_mpg_df, ax=axes[2, 1])\n",
    "axes[2, 1].set_title('Figure 6: Box Plot of MPG by Origin')\n",
    "\n",
    "plt.tight_layout()\n",
    "plt.show()"
   ]
  },
  {
   "cell_type": "markdown",
   "id": "7e37727e",
   "metadata": {},
   "source": [
    "#### Interpretation of Visualizations"
   ]
  },
  {
   "cell_type": "markdown",
   "id": "b0aa8f2d",
   "metadata": {},
   "source": [
    "* Figure 1: Histogram of MPG - This plot provides insight into the distribution of fuel efficiency across the dataset. The use of Kernel Density Estimate (KDE) alongside the histogram offers a smooth estimation of the MPG distribution, highlighting the common ranges of fuel efficiency.\n",
    "\n",
    "\n",
    "* Figure 2: Box Plot of Horsepower - By visualizing the spread of horsepower values, this plot helps identify the median, quartiles, and potential outliers within the dataset, offering a glimpse into the power distribution of the vehicles.\n",
    "\n",
    "\n",
    "* Figure 3: Bar Chart of Cylinders - This chart elucidates the frequency of cars with different cylinder counts, providing an overview of engine configurations' prevalence.\n",
    "\n",
    "\n",
    "* Figure 4: Line Chart of MPG over Model Years: This visualization tracks the progression of fuel efficiency over time, highlighting trends and shifts in MPG as vehicle designs and standards evolved.\n",
    "\n",
    "\n",
    "* Figure 5: Scatter Plot of Displacement vs. MPG: By plotting these two variables against each other, we can observe their relationship, potentially uncovering any inverse trends between engine size and fuel efficiency.\n",
    "\n",
    "\n",
    "* Figure 6: Box Plot of MPG by Origin: This plot compares the distribution of MPG values across vehicles from different origins, potentially revealing geographical trends in fuel efficiency standards."
   ]
  },
  {
   "cell_type": "markdown",
   "id": "229a80ad",
   "metadata": {},
   "source": [
    "#### Conclusion from Visualizations"
   ]
  },
  {
   "cell_type": "markdown",
   "id": "8e8b49dc",
   "metadata": {},
   "source": [
    "The visualizations provide a comprehensive view of the Auto MPG dataset, showcasing the distribution of MPG and horsepower, and the variation by cylinders and origin. They reveal both the current state and evolving trends in vehicle efficiency, illustrating how attributes affect fuel efficiency over time. These insights set the stage for a deeper, quantitative correlation analysis of the relationships observed visually."
   ]
  },
  {
   "cell_type": "markdown",
   "id": "5fab9b5b",
   "metadata": {},
   "source": [
    "# Correlation Analysis"
   ]
  },
  {
   "cell_type": "markdown",
   "id": "8469ba4e",
   "metadata": {},
   "source": [
    "After visually exploring the dataset, the next step is to quantitatively assess the relationships between various vehicle attributes and fuel efficiency (MPG). The Pearson correlation coefficient is a statistical measure that evaluates the linear relationship between two continuous variables, providing insights into the strength and direction of their association."
   ]
  },
  {
   "cell_type": "markdown",
   "id": "ace141a9",
   "metadata": {},
   "source": [
    "#### Code for Calculating Pearson Correlation Coefficients"
   ]
  },
  {
   "cell_type": "code",
   "execution_count": 8,
   "id": "6c2abeb1",
   "metadata": {},
   "outputs": [
    {
     "data": {
      "text/plain": [
       "{'Displacement vs. MPG': -0.8371483226968977,\n",
       " 'Horsepower vs. MPG': -0.8266857312782407,\n",
       " 'Weight vs. MPG': -0.8456441745328257}"
      ]
     },
     "execution_count": 8,
     "metadata": {},
     "output_type": "execute_result"
    }
   ],
   "source": [
    "# Calculate Pearson correlation coefficients for selected pairs\n",
    "correlation_pairs = {\n",
    "    'Displacement vs. MPG': auto_mpg_df['displacement'].corr(auto_mpg_df['mpg']),\n",
    "    'Horsepower vs. MPG': auto_mpg_df['horsepower'].corr(auto_mpg_df['mpg']),\n",
    "    'Weight vs. MPG': auto_mpg_df['weight'].corr(auto_mpg_df['mpg'])\n",
    "}\n",
    "\n",
    "correlation_pairs"
   ]
  },
  {
   "cell_type": "markdown",
   "id": "5b536102",
   "metadata": {},
   "source": [
    "This segment of code calculates the Pearson correlation coefficients for three pairs of variables that are intuitively expected to influence fuel efficiency: displacement, horsepower, and weight, each compared with MPG."
   ]
  },
  {
   "cell_type": "markdown",
   "id": "d92e69bd",
   "metadata": {},
   "source": [
    "#### Interpretation of Correlation Coefficients"
   ]
  },
  {
   "cell_type": "markdown",
   "id": "821d5ab6",
   "metadata": {},
   "source": [
    "* Displacement vs. MPG: The correlation coefficient between engine displacement and MPG will indicate how engine size affects fuel efficiency. A negative correlation is expected, as larger engines typically consume more fuel.\n",
    "\n",
    "* Horsepower vs. MPG: This coefficient assesses the relationship between the power output of a vehicle and its fuel efficiency. Similar to displacement, a negative correlation may be anticipated, suggesting that more powerful vehicles often have lower MPG.\n",
    "\n",
    "* Weight vs. MPG: The correlation between vehicle weight and MPG examines how the mass of a vehicle influences its fuel consumption. Again, a negative correlation is expected, implying that heavier vehicles are less fuel-efficient."
   ]
  },
  {
   "cell_type": "markdown",
   "id": "63d81493",
   "metadata": {},
   "source": [
    "#### The Pearson correlation coefficients provide a numerical summary of the relationships observed visually in the previous section. These coefficients range from -1 to 1, where:"
   ]
  },
  {
   "cell_type": "markdown",
   "id": "ef9ea0f2",
   "metadata": {},
   "source": [
    "* A coefficient close to 1 indicates a strong positive linear relationship.\n",
    "\n",
    "* A coefficient close to -1 indicates a strong negative linear relationship.\n",
    "\n",
    "* A coefficient around 0 suggests no linear relationship."
   ]
  },
  {
   "cell_type": "markdown",
   "id": "9462c8f8",
   "metadata": {},
   "source": [
    "#### Conclusion from Correlation Analysis"
   ]
  },
  {
   "cell_type": "markdown",
   "id": "41958a8b",
   "metadata": {},
   "source": [
    "Pearson correlation coefficients reveal a negative correlation between fuel efficiency and vehicle attributes like displacement, horsepower, and weight, confirming that larger and heavier vehicles with more power have lower fuel efficiency. This insight is vital for improving automotive design and influencing policy for better efficiency. The findings contribute to the wider conversation on energy efficiency and environmental impact in vehicles, setting the stage for further detailed analysis on evolving trends and the impact of power-to-weight ratios on fuel efficiency."
   ]
  },
  {
   "cell_type": "markdown",
   "id": "8350a5b8",
   "metadata": {},
   "source": [
    "# Advanced Analysis: Exploring Fuel Efficiency Across Different Groups"
   ]
  },
  {
   "cell_type": "markdown",
   "id": "2bebb6f8",
   "metadata": {},
   "source": [
    "After establishing the foundational relationships within the dataset through descriptive statistics, visual exploration, and correlation analysis, our investigation now extends into more nuanced inquiries. Specifically, we aim to understand how fuel efficiency, as measured by miles per gallon (MPG), varies across different groups defined by vehicle characteristics such as the number of cylinders and the origin of the vehicle. This advanced analysis will uncover patterns that could inform strategies for enhancing fuel efficiency based on these categorical variables."
   ]
  },
  {
   "cell_type": "markdown",
   "id": "415d69f6",
   "metadata": {},
   "source": [
    "#### Code for Grouped Analysis of MPG"
   ]
  },
  {
   "cell_type": "code",
   "execution_count": 9,
   "id": "1d221bb0",
   "metadata": {},
   "outputs": [
    {
     "data": {
      "text/plain": [
       "(cylinders\n",
       " 4    29.157895\n",
       " 5    20.300000\n",
       " 6    19.318750\n",
       " 8    15.024242\n",
       " Name: mpg, dtype: float64,\n",
       " origin\n",
       " 1    19.324615\n",
       " 2    28.676471\n",
       " 3    29.744000\n",
       " Name: mpg, dtype: float64)"
      ]
     },
     "execution_count": 9,
     "metadata": {},
     "output_type": "execute_result"
    }
   ],
   "source": [
    "# Grouped analysis for MPG by number of cylinders and origin\n",
    "avg_mpg_by_cylinders = auto_mpg_df.groupby('cylinders')['mpg'].mean()\n",
    "avg_mpg_by_origin = auto_mpg_df.groupby('origin')['mpg'].mean()\n",
    "\n",
    "# Display the results\n",
    "avg_mpg_by_cylinders, avg_mpg_by_origin"
   ]
  },
  {
   "cell_type": "markdown",
   "id": "447ce571",
   "metadata": {},
   "source": [
    "This code segments the dataset by 'cylinders' and 'origin' to calculate the average MPG for each group. By analyzing MPG in this manner, we gain insight into how these vehicle attributes might influence fuel efficiency across different categories."
   ]
  },
  {
   "cell_type": "markdown",
   "id": "2a2f2c54",
   "metadata": {},
   "source": [
    "#### Interpretation of Grouped Analysis Results"
   ]
  },
  {
   "cell_type": "markdown",
   "id": "3f81855b",
   "metadata": {},
   "source": [
    "MPG by Number of Cylinders: The average MPG for vehicles grouped by the number of cylinders reveals the impact of engine size on fuel efficiency. Typically, vehicles with fewer cylinders have higher fuel efficiency, as smaller engines generally consume less fuel. This trend is crucial for manufacturers and consumers alike, emphasizing the trade-off between power and efficiency in vehicle design and selection.\n",
    "\n",
    "MPG by Origin: Analyzing MPG based on the vehicle's origin sheds light on regional differences in automotive engineering and design philosophies. For instance, vehicles from regions with stricter fuel efficiency standards or a historical focus on smaller vehicles might exhibit higher average MPG. This comparison can highlight global disparities in fuel efficiency and potentially guide policy and consumer choice toward more sustainable options."
   ]
  },
  {
   "cell_type": "markdown",
   "id": "326949f0",
   "metadata": {},
   "source": [
    "#### Conclusion from Advanced Analysis"
   ]
  },
  {
   "cell_type": "markdown",
   "id": "ee8ab2d5",
   "metadata": {},
   "source": [
    "The analysis highlights how fuel efficiency is influenced by engine configuration and regional manufacturing trends, offering guidance for designing more efficient vehicles and making environmentally conscious choices. It deepens our understanding of the Auto MPG dataset, revealing the complex factors affecting fuel efficiency and its significance for broader discussions on energy use and environmental impact. These insights inform recommendations to improve automotive fuel efficiency, leveraging the comprehensive findings of this report."
   ]
  },
  {
   "cell_type": "markdown",
   "id": "e26aaf8f",
   "metadata": {},
   "source": [
    "# Advanced Analysis: Yearly Trends in Vehicle Attributes"
   ]
  },
  {
   "cell_type": "markdown",
   "id": "7092ad33",
   "metadata": {},
   "source": [
    "A vital component of our exploration into the Auto MPG dataset involves examining how key vehicle attributes—specifically MPG (miles per gallon), weight, and horsepower—have evolved over the years. This longitudinal analysis provides insights into automotive industry trends, technological advancements, and possibly changing consumer preferences."
   ]
  },
  {
   "cell_type": "markdown",
   "id": "3b154033",
   "metadata": {},
   "source": [
    "#### Code for Analyzing Yearly Trends"
   ]
  },
  {
   "cell_type": "code",
   "execution_count": 10,
   "id": "854b0977",
   "metadata": {},
   "outputs": [
    {
     "data": {
      "image/png": "[encoded data removed]",
      "text/plain": [
       "<Figure size 1008x504 with 1 Axes>"
      ]
     },
     "metadata": {
      "needs_background": "light"
     },
     "output_type": "display_data"
    }
   ],
   "source": [
    "# Yearly trends in mpg, weight, and horsepower\n",
    "yearly_trends = auto_mpg_df.groupby('model year').agg({\n",
    "    'mpg': 'mean',\n",
    "    'weight': 'mean',\n",
    "    'horsepower': 'mean'\n",
    "}).reset_index()\n",
    "\n",
    "# Plotting the trends over the model years\n",
    "plt.figure(figsize=(14, 7))\n",
    "\n",
    "# MPG trend\n",
    "plt.plot(yearly_trends['model year'], yearly_trends['mpg'], label='MPG', marker='o')\n",
    "\n",
    "# Weight trend\n",
    "plt.plot(yearly_trends['model year'], yearly_trends['weight'], label='Weight', marker='s')\n",
    "\n",
    "# Normalize horsepower for plotting on the same scale\n",
    "horsepower_normalized = (yearly_trends['horsepower'] - yearly_trends['horsepower'].min()) / (yearly_trends['horsepower'].max() - yearly_trends['horsepower'].min())\n",
    "plt.plot(yearly_trends['model year'], horsepower_normalized * yearly_trends['weight'].max(), label='Horsepower (Normalized)', marker='^')\n",
    "\n",
    "plt.xlabel('Model Year')\n",
    "plt.ylabel('Average Values & Normalized Horsepower')\n",
    "plt.title('Figure 7: Yearly Trends in MPG, Weight, and Horsepower')\n",
    "plt.legend()\n",
    "plt.grid(True)\n",
    "plt.show()"
   ]
  },
  {
   "cell_type": "markdown",
   "id": "db866c1b",
   "metadata": {},
   "source": [
    "#### Interpretation of Yearly Trends"
   ]
  },
  {
   "cell_type": "markdown",
   "id": "338b6591",
   "metadata": {},
   "source": [
    "MPG Trend: The trend line for MPG over the model years offers a clear depiction of how fuel efficiency has changed over time. An upward trajectory would indicate improvements in fuel efficiency, reflecting technological advancements and possibly regulatory influences.\n",
    "\n",
    "Weight Trend: Observing changes in the average vehicle weight over the years can reveal shifts in design preferences, material usage, and consumer demand for different vehicle sizes.\n",
    "\n",
    "Horsepower Trend: By normalizing horsepower values for comparison, we aim to understand how the power output of vehicles has evolved relative to their weight. An increase in normalized horsepower could suggest advancements in engine efficiency or a market shift towards more powerful vehicles."
   ]
  },
  {
   "cell_type": "markdown",
   "id": "ff7b9906",
   "metadata": {},
   "source": [
    "#### Conclusion from Yearly Trends Analysis"
   ]
  },
  {
   "cell_type": "markdown",
   "id": "5de32535",
   "metadata": {},
   "source": [
    "The analysis of yearly trends reveals improvements in fuel efficiency, influenced by technological advancements, environmental concerns, and regulations, alongside shifts in vehicle design reflecting consumer preferences and economic factors. This enhances our dataset understanding and links to broader automotive and environmental discussions. These insights form a foundation for final recommendations, integrating all analysis aspects to offer strategies for enhancing fuel efficiency, informed by historical shifts and future prospects."
   ]
  },
  {
   "cell_type": "markdown",
   "id": "8b8b67dc",
   "metadata": {},
   "source": [
    "# Advanced Analysis: MPG vs. Power-to-Weight Ratio"
   ]
  },
  {
   "cell_type": "markdown",
   "id": "1a4d9152",
   "metadata": {},
   "source": [
    "An intriguing aspect of vehicle performance and efficiency is the balance between power output and vehicle weight, commonly analyzed through the power-to-weight ratio. This ratio, essentially horsepower per ton, provides a normalized measure of a vehicle's power relative to its size, offering insights into performance characteristics that directly influence fuel efficiency.\n",
    "\n"
   ]
  },
  {
   "cell_type": "markdown",
   "id": "ebd5620c",
   "metadata": {},
   "source": [
    "#### Code for Analyzing MPG and Power-to-Weight Ratio\n"
   ]
  },
  {
   "cell_type": "code",
   "execution_count": 11,
   "id": "826916de",
   "metadata": {},
   "outputs": [
    {
     "data": {
      "image/png": "[encoded data removed]",
      "text/plain": [
       "<Figure size 720x432 with 1 Axes>"
      ]
     },
     "metadata": {
      "needs_background": "light"
     },
     "output_type": "display_data"
    },
    {
     "data": {
      "text/plain": [
       "-0.36995421734163686"
      ]
     },
     "execution_count": 11,
     "metadata": {},
     "output_type": "execute_result"
    }
   ],
   "source": [
    "# Calculate the power-to-weight ratio (horsepower per ton)\n",
    "auto_mpg_df['power_to_weight'] = (auto_mpg_df['horsepower'] / auto_mpg_df['weight']) * 2000 # Convert weight to tons for calculation\n",
    "\n",
    "# Calculate Pearson correlation coefficient for mpg and power-to-weight ratio\n",
    "correlation_mpg_pwr_wt = auto_mpg_df['mpg'].corr(auto_mpg_df['power_to_weight'])\n",
    "\n",
    "# Plotting the relationship\n",
    "plt.figure(figsize=(10, 6))\n",
    "sns.scatterplot(x='power_to_weight', y='mpg', data=auto_mpg_df)\n",
    "plt.title('Figure 8: MPG vs. Power-to-Weight Ratio')\n",
    "plt.xlabel('Power-to-Weight Ratio (Horsepower per Ton)')\n",
    "plt.ylabel('Miles Per Gallon (MPG)')\n",
    "plt.grid(True)\n",
    "plt.show()\n",
    "\n",
    "# Displaying the Pearson correlation coefficient\n",
    "correlation_mpg_pwr_wt"
   ]
  },
  {
   "cell_type": "markdown",
   "id": "7feea276",
   "metadata": {},
   "source": [
    "This code computes the power-to-weight ratio for each vehicle in the dataset and examines its relationship with MPG through a scatter plot and the calculation of a Pearson correlation coefficient."
   ]
  },
  {
   "cell_type": "markdown",
   "id": "45075304",
   "metadata": {},
   "source": [
    "#### Interpretation of the Analysis\n"
   ]
  },
  {
   "cell_type": "markdown",
   "id": "c4db8ce6",
   "metadata": {},
   "source": [
    "The scatter plot visually represents each vehicle's MPG against its power-to-weight ratio, offering an immediate understanding of how these two variables interact. A key expectation is that vehicles with a higher power-to-weight ratio might exhibit lower MPG, suggesting a trade-off between power and fuel efficiency.\n",
    "\n",
    "The Pearson correlation coefficient quantifies this relationship, with a negative value indicating an inverse relationship between power-to-weight ratio and fuel efficiency. This numerical measure provides a concise summary of the trend observed in the scatter plot, supporting the initial hypothesis with statistical evidence."
   ]
  },
  {
   "cell_type": "markdown",
   "id": "dce17c9b",
   "metadata": {},
   "source": [
    "#### Conclusion from Power-to-Weight Ratio Analysis\n"
   ]
  },
  {
   "cell_type": "markdown",
   "id": "2c048246",
   "metadata": {},
   "source": [
    "This analysis highlights the crucial balance in automotive design between power output and fuel efficiency, essential for creating vehicles that meet both performance and efficiency criteria. It emphasizes the role of design choices in achieving sustainability goals amid growing environmental and regulatory demands. The insights inform the report's final recommendations, advocating for innovative approaches to vehicle design that prioritize both high performance and fuel efficiency in line with sustainability objectives."
   ]
  },
  {
   "cell_type": "markdown",
   "id": "69d5c30e",
   "metadata": {},
   "source": [
    "# Conclusions\n"
   ]
  },
  {
   "cell_type": "markdown",
   "id": "5f9252e4",
   "metadata": {},
   "source": [
    "The analysis of the Auto MPG dataset has provided a comprehensive exploration into the factors affecting vehicle fuel efficiency, illustrated through descriptive statistics, visualizations, correlation studies, and advanced analyses of trends and ratios. These findings not only enhance our understanding of automotive fuel efficiency dynamics but also offer a basis for informed decision-making in vehicle design and policy formulation.\n",
    "\n",
    "Descriptive Statistics and Data Cleaning: Initial exploration revealed a need for data cleaning, particularly for the 'horsepower' variable, which was crucial for ensuring the integrity of subsequent analyses. Descriptive statistics highlighted the variability and central tendencies in MPG, weight, horsepower, and other key variables, setting the stage for deeper investigation.\n",
    "\n",
    "Visualizations: The various plots created during the analysis—ranging from histograms and scatter plots to box plots and line charts—visually reinforced the relationships between variables, especially the negative impacts of weight, displacement, and horsepower on fuel efficiency.\n",
    "\n",
    "Correlation Analysis: Pearson correlation coefficients quantitatively confirmed the inverse relationships between MPG and several vehicle attributes, underscoring the trade-offs inherent in vehicle design regarding power output and weight.\n",
    "\n",
    "Advanced Analysis: The grouped analysis by cylinders and origin revealed significant variations in MPG, suggesting the influence of engine configuration and geographical manufacturing differences on fuel efficiency.\n",
    "Yearly trends indicated improvements in MPG over time, reflecting advancements in technology and possibly the impact of regulatory standards.\n",
    "The analysis of MPG against the power-to-weight ratio highlighted the balance between performance and efficiency, with a clear trade-off between higher power and lower fuel economy."
   ]
  }
 ],
 "metadata": {
  "kernelspec": {
   "display_name": "Python 3 (ipykernel)",
   "language": "python",
   "name": "python3"
  },
  "language_info": {
   "codemirror_mode": {
    "name": "ipython",
    "version": 3
   },
   "file_extension": ".py",
   "mimetype": "text/x-python",
   "name": "python",
   "nbconvert_exporter": "python",
   "pygments_lexer": "ipython3",
   "version": "3.9.7"
  }
 },
 "nbformat": 4,
 "nbformat_minor": 5
}
