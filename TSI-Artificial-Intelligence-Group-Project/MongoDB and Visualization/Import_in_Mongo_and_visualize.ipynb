{
  "nbformat": 4,
  "nbformat_minor": 0,
  "metadata": {
    "colab": {
      "provenance": []
    },
    "kernelspec": {
      "name": "python3",
      "display_name": "Python 3"
    },
    "language_info": {
      "name": "python"
    }
  },
  "cells": [
    {
      "cell_type": "code",
      "source": [
        "import pandas as pd\n",
        "import io\n",
        "import requests\n",
        "\n",
        "# URL to the CSV file\n",
        "url = \"https://github.com/NataKrj/AI-project-2024/raw/main/Results%2026.12.2024/Step_4_company_risk_scores.csv\"\n",
        "\n",
        "# Fetch the content from the URL\n",
        "response = requests.get(url).content\n",
        "\n",
        "# Save the file locally\n",
        "file_name = \"Step_4_company_risk_scores.csv\"\n",
        "with open(file_name, \"wb\") as f:\n",
        "    f.write(response)\n",
        "\n",
        "# Now the file is visible in Colab's file browser\n",
        "print(f\"File saved as: {file_name}\")\n",
        "\n",
        "# Load the CSV into a pandas DataFrame\n",
        "df = pd.read_csv(file_name, sep=',', on_bad_lines='skip', engine='python')\n",
        "\n",
        "# Display the first few rows of the DataFrame\n",
        "print(df.head())\n"
      ],
      "metadata": {
        "colab": {
          "base_uri": "https://localhost:8080/"
        },
        "id": "QTPaZVSV_NEf",
        "outputId": "f0a6d4b7-4637-4e6d-8785-daf630fd4ce9"
      },
      "execution_count": null,
      "outputs": [
        {
          "output_type": "stream",
          "name": "stdout",
          "text": [
            "File saved as: Step_4_company_risk_scores.csv\n",
            "          company_name Sanctioned Names                       Status  \\\n",
            "0                   9g         No Match                        error   \n",
            "1  a.b.c. kickers bvba         No Match               ENT LP Stopped   \n",
            "2       a.d. froidmont         No Match                   EU Stopped   \n",
            "3        a.f. security         No Match                   EU Stopped   \n",
            "4        a.f.m. new sa         No Match  not found in KBO data table   \n",
            "\n",
            "       matched_keywords  Total_Score risk_level  \n",
            "0  No relevant keywords          2.0     medium  \n",
            "1  No relevant keywords          5.0     medium  \n",
            "2                 court         10.0     medium  \n",
            "3  No relevant keywords          5.0     medium  \n",
            "4  No relevant keywords          2.0     medium  \n"
          ]
        }
      ]
    },
    {
      "cell_type": "code",
      "source": [
        "!pip install pymongo\n",
        "!pip install dnspython"
      ],
      "metadata": {
        "colab": {
          "base_uri": "https://localhost:8080/"
        },
        "id": "KXGjpZDszQEQ",
        "outputId": "7f7d6fc5-40b2-4e88-ccfd-d49536c81cc5"
      },
      "execution_count": null,
      "outputs": [
        {
          "output_type": "stream",
          "name": "stdout",
          "text": [
            "Requirement already satisfied: pymongo in /usr/local/lib/python3.10/dist-packages (4.10.1)\n",
            "Requirement already satisfied: dnspython<3.0.0,>=1.16.0 in /usr/local/lib/python3.10/dist-packages (from pymongo) (2.7.0)\n",
            "Requirement already satisfied: dnspython in /usr/local/lib/python3.10/dist-packages (2.7.0)\n"
          ]
        }
      ]
    },
    {
      "cell_type": "code",
      "source": [
        "from pymongo import MongoClient\n",
        "import json\n",
        "from io import StringIO\n",
        "\n",
        "# MongoDB connection setup\n",
        "uri = \"mongodb+srv://xxxxxxxxxxx@cluster0.lu6vo.mongodb.net/?retryWrites=true&w=majority&appName=Cluster0\"  # Replace with your MongoDB URI\n",
        "client = MongoClient(uri)\n",
        "\n",
        "# Test the connection\n",
        "try:\n",
        "    client.admin.command('ping')\n",
        "    print(\"Successfully connected to MongoDB!\")\n",
        "except Exception as e:\n",
        "    print(f\"Error connecting to MongoDB: {e}\")\n",
        "    exit()\n",
        "\n",
        "# Access the database and collection\n",
        "db_name = \"Company_scoring\"\n",
        "collection_name = \"Company_risk_scores\"\n",
        "db = client[db_name]\n",
        "collection = db[collection_name]\n",
        "\n",
        "# Path to the uploaded CSV file\n",
        "file_path = 'Step_4_company_risk_scores.csv'\n",
        "\n",
        "try:\n",
        "    # Load the CSV content into a DataFrame\n",
        "    df = pd.read_csv(\n",
        "        file_path,\n",
        "        sep=',',             # delimiter\n",
        "        quotechar='\"',\n",
        "        on_bad_lines='skip',\n",
        "        engine='python'      # Use Python engine--> adjusted\n",
        "    )\n",
        "\n",
        "    # Check  DataFrame\n",
        "    print(\"Preview of the imported DataFrame:\")\n",
        "    print(df.head())\n",
        "\n",
        "    # Check for rows with mismatched columns\n",
        "    print(\"\\nNumber of columns in DataFrame:\", len(df.columns))\n",
        "    print(\"Column Names:\", df.columns.tolist())\n",
        "\n",
        "    # Validate rows with missing/ extra fields\n",
        "    if df.isnull().any().any():\n",
        "        print(\"\\nWarning: Missing values detected in the following rows:\")\n",
        "        print(df[df.isnull().any(axis=1)])\n",
        "\n",
        "        # Fill missing values with \"N/A\"\n",
        "        df.fillna(\"N/A\", inplace=True)\n",
        "        print(\"\\nData after filling missing values:\")\n",
        "        print(df.head())\n",
        "    else:\n",
        "        print(\"\\nNo missing values detected.\")\n",
        "\n",
        "    # Rename columns to match desired fields if necessary\n",
        "    df.columns = [\"company_name\", \"Sanctioned Names\", \"Status\", \"matched_keywords\", \"Total_Score\", \"risk_level\"]\n",
        "\n",
        "    # Convert DataFrame to a list of JSON objects\n",
        "    data = json.loads(df.to_json(orient='records'))\n",
        "\n",
        "    # Preview the data to be inserted\n",
        "    print(\"Preview of data to be inserted into MongoDB:\")\n",
        "    print(json.dumps(data[:5], indent=4))\n",
        "\n",
        "    # Insert data into MongoDB\n",
        "    if data:\n",
        "        collection.insert_many(data)\n",
        "        print(\"Data successfully imported into MongoDB!\")\n",
        "    else:\n",
        "        print(\"No data found in the CSV file.\")\n",
        "except Exception as e:\n",
        "    print(f\"An error occurred: {e}\")\n"
      ],
      "metadata": {
        "colab": {
          "base_uri": "https://localhost:8080/"
        },
        "id": "-bA-d1xe7LMH",
        "outputId": "6592a7b0-2fbb-40b8-90cd-873cddf3a7e6"
      },
      "execution_count": null,
      "outputs": [
        {
          "output_type": "stream",
          "name": "stdout",
          "text": [
            "Successfully connected to MongoDB!\n",
            "Preview of the imported DataFrame:\n",
            "          company_name Sanctioned Names                       Status  \\\n",
            "0                   9g         No Match                        error   \n",
            "1  a.b.c. kickers bvba         No Match               ENT LP Stopped   \n",
            "2       a.d. froidmont         No Match                   EU Stopped   \n",
            "3        a.f. security         No Match                   EU Stopped   \n",
            "4        a.f.m. new sa         No Match  not found in KBO data table   \n",
            "\n",
            "       matched_keywords  Total_Score risk_level  \n",
            "0  No relevant keywords          2.0     medium  \n",
            "1  No relevant keywords          5.0     medium  \n",
            "2                 court         10.0     medium  \n",
            "3  No relevant keywords          5.0     medium  \n",
            "4  No relevant keywords          2.0     medium  \n",
            "\n",
            "Number of columns in DataFrame: 6\n",
            "Column Names: ['company_name', 'Sanctioned Names', 'Status', 'matched_keywords', 'Total_Score', 'risk_level']\n",
            "\n",
            "No missing values detected.\n",
            "Preview of data to be inserted into MongoDB:\n",
            "[\n",
            "    {\n",
            "        \"company_name\": \"9g\",\n",
            "        \"Sanctioned Names\": \"No Match\",\n",
            "        \"Status\": \"error\",\n",
            "        \"matched_keywords\": \"No relevant keywords\",\n",
            "        \"Total_Score\": 2.0,\n",
            "        \"risk_level\": \"medium\"\n",
            "    },\n",
            "    {\n",
            "        \"company_name\": \"a.b.c. kickers bvba\",\n",
            "        \"Sanctioned Names\": \"No Match\",\n",
            "        \"Status\": \"ENT LP Stopped\",\n",
            "        \"matched_keywords\": \"No relevant keywords\",\n",
            "        \"Total_Score\": 5.0,\n",
            "        \"risk_level\": \"medium\"\n",
            "    },\n",
            "    {\n",
            "        \"company_name\": \"a.d. froidmont\",\n",
            "        \"Sanctioned Names\": \"No Match\",\n",
            "        \"Status\": \"EU Stopped\",\n",
            "        \"matched_keywords\": \"court\",\n",
            "        \"Total_Score\": 10.0,\n",
            "        \"risk_level\": \"medium\"\n",
            "    },\n",
            "    {\n",
            "        \"company_name\": \"a.f. security\",\n",
            "        \"Sanctioned Names\": \"No Match\",\n",
            "        \"Status\": \"EU Stopped\",\n",
            "        \"matched_keywords\": \"No relevant keywords\",\n",
            "        \"Total_Score\": 5.0,\n",
            "        \"risk_level\": \"medium\"\n",
            "    },\n",
            "    {\n",
            "        \"company_name\": \"a.f.m. new sa\",\n",
            "        \"Sanctioned Names\": \"No Match\",\n",
            "        \"Status\": \"not found in KBO data table\",\n",
            "        \"matched_keywords\": \"No relevant keywords\",\n",
            "        \"Total_Score\": 2.0,\n",
            "        \"risk_level\": \"medium\"\n",
            "    }\n",
            "]\n",
            "Data successfully imported into MongoDB!\n"
          ]
        }
      ]
    },
    {
      "cell_type": "markdown",
      "source": [
        "#Visualization in Mongo database link: https://charts.mongodb.com/charts-mongodb-pbuqwjz/public/dashboards/673dbfd4-c3c0-45fb-818c-bec4f2336c73"
      ],
      "metadata": {
        "id": "haw52kmlBOBP"
      }
    }
  ]
}